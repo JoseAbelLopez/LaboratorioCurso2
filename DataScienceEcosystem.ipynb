{
  "metadata": {
    "kernelspec": {
      "name": "python",
      "display_name": "Python (Pyodide)",
      "language": "python"
    },
    "language_info": {
      "codemirror_mode": {
        "name": "python",
        "version": 3
      },
      "file_extension": ".py",
      "mimetype": "text/x-python",
      "name": "python",
      "nbconvert_exporter": "python",
      "pygments_lexer": "ipython3",
      "version": "3.8"
    }
  },
  "nbformat_minor": 5,
  "nbformat": 4,
  "cells": [
    {
      "id": "24a6818f-1e7b-46c4-bb5a-647fa2526bf5",
      "cell_type": "markdown",
      "source": "# DataScienceEcosystem",
      "metadata": {}
    },
    {
      "id": "41de1583-87d7-421d-ba02-5c12da2d84f3",
      "cell_type": "markdown",
      "source": "En este cuaderno, se resumen las herramientas y ecosistemas de ciencia de datos.\n\n**Objetivos**\n+ Listar bibliotecas para la ciencia de datos.\n+ Listar lenguajes populares para Ciencia de Datos.\n+ Crear tabla de herramientas de Ciencia de Datos.\n+ Expresiones aritméticas en Python",
      "metadata": {}
    },
    {
      "id": "fef8b989-8d2a-424c-86b4-713367134e45",
      "cell_type": "markdown",
      "source": "**Algunos de los lenguajes populares que utilizan los científicos de datos son:**\n1. Python\n2. SQL\n3. R\n4. C++",
      "metadata": {}
    },
    {
      "id": "0bc0c0d7-5439-40c4-a712-8db38ed51a00",
      "cell_type": "markdown",
      "source": "**Algunas de las bibliotecas comúnmente utilizadas por los científicos de datos incluyen:**\n1. Numpy\n2. Matplotlib\n3. Plotly",
      "metadata": {}
    },
    {
      "id": "f18d0020-24be-4803-847f-7687124ef78f",
      "cell_type": "markdown",
      "source": "|Herramientas de Ciencia de Datos|\n|--------------------------------|\n|Jupyter Notebook                |\n|Apache Zeppelin                 |\n|RStudio                         |",
      "metadata": {}
    },
    {
      "id": "b4e65c9e-9771-4d90-b7cd-11d63a2fc7ed",
      "cell_type": "markdown",
      "source": "### A continuación, se presentan algunos ejemplos de evaluación de expresiones aritméticas en Python ###",
      "metadata": {}
    },
    {
      "id": "fb3c5d21-949f-42a7-a83d-28fce5e7ebfc",
      "cell_type": "code",
      "source": "#Esta es una expresión aritmética simple para multiplicar y luego sumar enteros#\n(3*4)+5",
      "metadata": {
        "trusted": true
      },
      "outputs": [
        {
          "execution_count": 1,
          "output_type": "execute_result",
          "data": {
            "text/plain": "17"
          },
          "metadata": {}
        }
      ],
      "execution_count": 1
    },
    {
      "id": "f0c0aa85-801d-42e1-b664-9cbc91b910b2",
      "cell_type": "code",
      "source": "#Esto convertirá 200 minutos a horas dividiendo por 60#\n200/60",
      "metadata": {
        "trusted": true
      },
      "outputs": [
        {
          "execution_count": 2,
          "output_type": "execute_result",
          "data": {
            "text/plain": "3.3333333333333335"
          },
          "metadata": {}
        }
      ],
      "execution_count": 2
    },
    {
      "id": "5b738d10-c911-4ae8-a158-148856521c43",
      "cell_type": "markdown",
      "source": "## Autor ##\nJose Abel Lopez de la Fuente",
      "metadata": {}
    },
    {
      "id": "d44967d2-8cbb-44aa-83fd-ea5bcdf2a18f",
      "cell_type": "code",
      "source": "",
      "metadata": {
        "trusted": true
      },
      "outputs": [],
      "execution_count": null
    }
  ]
}