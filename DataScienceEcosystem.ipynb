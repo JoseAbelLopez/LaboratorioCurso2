{
  "metadata": {
    "kernelspec": {
      "name": "python",
      "display_name": "Python (Pyodide)",
      "language": "python"
    },
    "language_info": {
      "codemirror_mode": {
        "name": "python",
        "version": 3
      },
      "file_extension": ".py",
      "mimetype": "text/x-python",
      "name": "python",
      "nbconvert_exporter": "python",
      "pygments_lexer": "ipython3",
      "version": "3.8"
    }
  },
  "nbformat_minor": 5,
  "nbformat": 4,
  "cells": [
    {
      "id": "d7e8b00c-9041-414c-81a2-b5707f7ceeab",
      "cell_type": "markdown",
      "source": "# DataScienceEcosystem",
      "metadata": {}
    },
    {
      "id": "024af8be-8f8e-4332-a37b-8e974af7b046",
      "cell_type": "markdown",
      "source": "This notebook summarizes data science tools and ecosystems.\n\n**Goals**\n+ List libraries for data science.\n+ List popular languages for Data Science.\n+ Create table of Data Science tools.\n+ Arithmetic expressions in Python",
      "metadata": {}
    },
    {
      "id": "6a337d2a-c026-4258-ae1d-5b289ecbcb51",
      "cell_type": "markdown",
      "source": "**Some of the popular languages ​​used by data scientists are:**\n\n1. Python\n2. SQL\n3. R\n4. C++",
      "metadata": {}
    },
    {
      "id": "11d2fc99-b41f-4701-84bb-9b2778f7588c",
      "cell_type": "markdown",
      "source": "**Some of the libraries commonly used by data scientists include:**\n1. Numpy\n2. Matplotlib\n3. Plotly",
      "metadata": {}
    },
    {
      "id": "29876e63-8231-4aff-bb5f-730c86e72fc4",
      "cell_type": "markdown",
      "source": "|Data Science Tools|\n|--------------------------------|\n|Jupyter Notebook                |\n|Apache Zeppelin                 |\n|RStudio                         |",
      "metadata": {}
    },
    {
      "id": "bcc8732d-30f2-45af-9ce2-9ee7b251ae2c",
      "cell_type": "markdown",
      "source": "### Below are some examples of evaluating arithmetic expressions in Python ###",
      "metadata": {}
    },
    {
      "id": "bf8722d9-60a0-4e21-b1da-2ecc6b10fe00",
      "cell_type": "code",
      "source": "#This is a simple arithmetic expression to multiply and then add integers#\n(3*4)+5",
      "metadata": {
        "trusted": true
      },
      "outputs": [
        {
          "execution_count": 2,
          "output_type": "execute_result",
          "data": {
            "text/plain": "17"
          },
          "metadata": {}
        }
      ],
      "execution_count": 2
    },
    {
      "id": "9f696bd8-4dd3-488a-9290-14ee365a76c0",
      "cell_type": "code",
      "source": "#This will convert 200 minutes to hours by dividing by 60#\n200/60",
      "metadata": {
        "trusted": true
      },
      "outputs": [
        {
          "execution_count": 3,
          "output_type": "execute_result",
          "data": {
            "text/plain": "3.3333333333333335"
          },
          "metadata": {}
        }
      ],
      "execution_count": 3
    },
    {
      "id": "edf11d4c-98f0-4d3b-b41f-5431d620ad25",
      "cell_type": "markdown",
      "source": "## Autor ##\nJose Abel Lopez de la Fuente",
      "metadata": {}
    },
    {
      "id": "efe47933-9636-40f1-8aa3-98fe3d986cdb",
      "cell_type": "code",
      "source": "",
      "metadata": {
        "trusted": true
      },
      "outputs": [],
      "execution_count": null
    }
  ]
}