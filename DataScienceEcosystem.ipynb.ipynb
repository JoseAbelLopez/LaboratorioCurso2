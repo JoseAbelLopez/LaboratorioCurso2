{
 "cells": [
  {
   "cell_type": "markdown",
   "id": "ba2b096e-2e74-433c-bb0f-31bdfad3ebc8",
   "metadata": {},
   "source": [
    "# DataScienceEcosystem"
   ]
  },
  {
   "cell_type": "markdown",
   "id": "164ad48c-8b4f-469b-a46d-3c688a34e307",
   "metadata": {},
   "source": [
    "En este cuaderno, se resumen las herramientas y ecosistemas de ciencia de datos.\n",
    "\n",
    "**Objetivos**\n",
    "+ Listar bibliotecas para la ciencia de datos.\n",
    "+ Listar lenguajes populares para Ciencia de Datos.\n",
    "+ Crear tabla de herramientas de Ciencia de Datos.\n",
    "+ Expresiones aritméticas en Python"
   ]
  },
  {
   "cell_type": "markdown",
   "id": "f1e4afb9-da61-44e0-a506-c1f20f9a7a35",
   "metadata": {},
   "source": [
    "**Algunos de los lenguajes populares que utilizan los científicos de datos son:**\n",
    "1. Python\n",
    "2. SQL\n",
    "3. R\n",
    "4. C++"
   ]
  },
  {
   "cell_type": "markdown",
   "id": "4290a3a2-a7d8-4b91-86cc-855524b64cc7",
   "metadata": {},
   "source": [
    "**Algunas de las bibliotecas comúnmente utilizadas por los científicos de datos incluyen:**\n",
    "1. Numpy\n",
    "2. Matplotlib\n",
    "3. Plotly"
   ]
  },
  {
   "cell_type": "markdown",
   "id": "232b8ec2-97fe-451b-89fe-d764f95ae6ab",
   "metadata": {},
   "source": [
    "|Herramientas de Ciencia de Datos|\n",
    "|--------------------------------|\n",
    "|Jupyter Notebook                |\n",
    "|Apache Zeppelin                 |\n",
    "|RStudio                         |"
   ]
  },
  {
   "cell_type": "markdown",
   "id": "6ccb532c-7202-4243-a4f2-e0719f3397bf",
   "metadata": {},
   "source": [
    "### A continuación, se presentan algunos ejemplos de evaluación de expresiones aritméticas en Python ###"
   ]
  },
  {
   "cell_type": "code",
   "execution_count": null,
   "id": "6c8baa14-b76c-44ec-8d49-7b75f4b6a91b",
   "metadata": {},
   "outputs": [],
   "source": []
  }
 ],
 "metadata": {
  "kernelspec": {
   "display_name": "Python 3 (ipykernel)",
   "language": "python",
   "name": "python3"
  },
  "language_info": {
   "codemirror_mode": {
    "name": "ipython",
    "version": 3
   },
   "file_extension": ".py",
   "mimetype": "text/x-python",
   "name": "python",
   "nbconvert_exporter": "python",
   "pygments_lexer": "ipython3",
   "version": "3.11.9"
  }
 },
 "nbformat": 4,
 "nbformat_minor": 5
}
